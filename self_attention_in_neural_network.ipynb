{
  "nbformat": 4,
  "nbformat_minor": 0,
  "metadata": {
    "colab": {
      "provenance": []
    },
    "kernelspec": {
      "name": "python3",
      "display_name": "Python 3"
    },
    "language_info": {
      "name": "python"
    }
  },
  "cells": [
    {
      "cell_type": "markdown",
      "source": [
        "#Self attention in transformers\n"
      ],
      "metadata": {
        "id": "kWgIpqUgjt15"
      }
    },
    {
      "cell_type": "markdown",
      "source": [
        "#Generate Data"
      ],
      "metadata": {
        "id": "Mk9Dz5Axj1HL"
      }
    },
    {
      "cell_type": "code",
      "execution_count": 1,
      "metadata": {
        "colab": {
          "base_uri": "https://localhost:8080/"
        },
        "id": "tbKYmpdqjOSt",
        "outputId": "e71645f8-6df0-46d6-cdd4-adb610753f03"
      },
      "outputs": [
        {
          "output_type": "stream",
          "name": "stdout",
          "text": [
            "Q\n",
            " [[ 0.61309447  0.91506437  0.17928648 -0.27264527  0.19815865 -0.02763374\n",
            "   0.30879337  0.27903206]\n",
            " [ 2.69379771 -0.23551054  1.32126455 -0.74207261  0.58136525  0.69722202\n",
            "  -0.71070405  0.10600109]\n",
            " [-1.09163064 -0.69622594 -0.05637154  0.19256647 -0.45691985  1.02455255\n",
            "  -1.55772857  0.49051046]\n",
            " [ 1.11384231  0.53439112  0.02576718  0.2703154  -0.89751473 -0.09377303\n",
            "   0.55149566 -0.85294598]]\n",
            "K\n",
            " [[-1.73103395 -0.25666761 -0.91997805 -0.77270287 -0.35118486  0.51912348\n",
            "  -0.13213558 -1.92365178]\n",
            " [-0.85227627  1.12124783  1.10568746 -1.56074242 -0.87117527  0.03346966\n",
            "  -0.51450005 -0.33870361]\n",
            " [-0.24157953 -0.11136578 -1.33738659  0.25303467  0.19797067 -0.77156918\n",
            "   0.55320392  0.81339493]\n",
            " [ 0.94791864 -0.37336424  0.29379027  0.0029842   0.36586476  1.11545411\n",
            "   0.29594558  1.13071325]]\n",
            "V\n",
            " [[ 0.93524188  0.38485664 -0.54203671 -1.17671975 -0.92106956  0.04904538\n",
            "   0.69986602  1.13725061]\n",
            " [-0.87886758  0.31937379 -0.62532131  0.04615786  0.99873222 -0.15069474\n",
            "  -0.72779954 -0.6483603 ]\n",
            " [-0.10133848  1.7948957  -0.13092193 -1.40875396  1.94533812 -1.22457486\n",
            "   0.52411603  0.95877175]\n",
            " [-1.32394043  0.78122642 -1.7660143   1.56255693  0.20786871 -0.19981738\n",
            "   1.41704197  0.09279426]]\n"
          ]
        }
      ],
      "source": [
        "import numpy as np\n",
        "import math\n",
        "\n",
        "L, d_k, d_v = 4, 8, 8\n",
        "\n",
        "q = np.random.randn(L,d_k)\n",
        "k = np.random.randn(L,d_k)\n",
        "v = np.random.randn(L,d_v)\n",
        "print(\"Q\\n\",q)\n",
        "print(\"K\\n\",k)\n",
        "print(\"V\\n\",v)"
      ]
    },
    {
      "cell_type": "markdown",
      "source": [
        "This code generates random matrices Q, K, and V, which are typically used in the context of the scaled dot-product attention mechanism in the Transformer model. Let's break down the code:\n",
        "\n",
        "Here's what each part does:\n",
        "\n",
        "L: Number of attention heads (or queries, keys, values).\n",
        "\n",
        "d_k: Dimensionality of the keys and queries.\n",
        "\n",
        "d_v: Dimensionality of the values.\n",
        "\n",
        "The code then generates random matrices for Q (queries), K (keys), and V (values) using NumPy's randn function, which generates an array of random samples from the standard normal distribution.\n",
        "\n",
        "The resulting matrices q, k, and v have shapes (L, d_k), (L, d_k), and (L, d_v) respectively.\n",
        "\n",
        "In the Transformer model, these matrices are used in the attention mechanism to compute attention scores, which are then used to weight the values (v) to obtain the weighted sum, representing the attended information.\n",
        "\n",
        "#Self Attention\n",
        "\n",
        "![image.png](data:image/png;base64,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)"
      ],
      "metadata": {
        "id": "6LNt3MymlBwB"
      }
    },
    {
      "cell_type": "code",
      "source": [
        "np.matmul(q, k.T)"
      ],
      "metadata": {
        "colab": {
          "base_uri": "https://localhost:8080/"
        },
        "id": "XAYxetxXlZoD",
        "outputId": "9574ab18-71ab-4db6-febd-955592d33437"
      },
      "execution_count": 2,
      "outputs": [
        {
          "output_type": "execute_result",
          "data": {
            "text/plain": [
              "array([[-1.91191933,  0.70031274, -0.10044207,  0.73993674],\n",
              "       [-5.19696234, -0.09421663, -3.30915542,  3.92733978],\n",
              "       [ 1.92600493,  0.85451556, -0.87836483,  0.27847637],\n",
              "       [-0.46342581,  0.04038667, -0.78867748, -0.36950697]])"
            ]
          },
          "metadata": {},
          "execution_count": 2
        }
      ]
    },
    {
      "cell_type": "markdown",
      "source": [
        "By using the scaled dot product (dividing by\n",
        "�\n",
        "�\n",
        "d\n",
        "k\n",
        "​\n",
        "\n",
        "​\n",
        " ), we aim to keep the variances of these quantities within a more stable range during the training process."
      ],
      "metadata": {
        "id": "e_bIM8U5mQAx"
      }
    },
    {
      "cell_type": "code",
      "source": [
        "# Why we need sqrt(d_k) in denominator\n",
        "q.var(), k.var(), np.matmul(q, k.T).var()"
      ],
      "metadata": {
        "colab": {
          "base_uri": "https://localhost:8080/"
        },
        "id": "hw5gL1Mql4LK",
        "outputId": "d268ae9e-cb18-4d28-8bac-61d0441513bd"
      },
      "execution_count": 3,
      "outputs": [
        {
          "output_type": "execute_result",
          "data": {
            "text/plain": [
              "(0.6551147955866536, 0.6941088909749681, 3.9381294403548246)"
            ]
          },
          "metadata": {},
          "execution_count": 3
        }
      ]
    },
    {
      "cell_type": "code",
      "source": [
        "scaled = np.matmul(q, k.T) / math.sqrt(d_k)\n",
        "q.var(), k.var(), scaled.var()"
      ],
      "metadata": {
        "colab": {
          "base_uri": "https://localhost:8080/"
        },
        "id": "8CnPFxuJmjSp",
        "outputId": "b92c0592-bbc3-46d8-bb2d-9893f8893a1f"
      },
      "execution_count": 4,
      "outputs": [
        {
          "output_type": "execute_result",
          "data": {
            "text/plain": [
              "(0.6551147955866536, 0.6941088909749681, 0.4922661800443529)"
            ]
          },
          "metadata": {},
          "execution_count": 4
        }
      ]
    },
    {
      "cell_type": "markdown",
      "source": [
        "#Masking\n",
        "This is to ensure words don't get context from words generated in the future.\n",
        "Not required in the encoders, but required int he decoders\n",
        "\n",
        "The code creates a lower triangular matrix (mask) filled with ones and the rest of the elements set to zero. This matrix is commonly used as a mask in the context of the Transformer model, particularly for preventing attention to future tokens in a sequence during self-attention.\n",
        "\n",
        "np.ones((L, L)): Creates a square matrix of size\n",
        "�\n",
        "×\n",
        "�\n",
        "L×L filled with ones.\n",
        "\n",
        "np.tril(...): Takes the lower triangular part of the matrix and sets the upper triangular part to zero. The resulting matrix is a lower triangular matrix with ones on and below the main diagonal.\n",
        "\n",
        "The purpose of this mask in the Transformer model is to prevent positions (tokens) in the input sequence from attending to positions after them during self-attention. In other words, it enforces causal attention. The lower triangular matrix ensures that each position can attend to positions up to and including itself but not to positions after itself in the sequence.\n",
        "\n",
        "In the context of self-attention, this mask will be applied to the scaled dot-product attention scores to zero out (mask) the attention weights for positions after the current position, ensuring that each position attends only to positions before it."
      ],
      "metadata": {
        "id": "EnErrpGpmyDB"
      }
    },
    {
      "cell_type": "code",
      "source": [
        "mask = np.tril(np.ones((L, L)))\n",
        "mask"
      ],
      "metadata": {
        "colab": {
          "base_uri": "https://localhost:8080/"
        },
        "id": "5CrA0DFgmsyx",
        "outputId": "fc6ba947-0955-4463-c41a-c671cbd30483"
      },
      "execution_count": 12,
      "outputs": [
        {
          "output_type": "execute_result",
          "data": {
            "text/plain": [
              "array([[1., 0., 0., 0.],\n",
              "       [1., 1., 0., 0.],\n",
              "       [1., 1., 1., 0.],\n",
              "       [1., 1., 1., 1.]])"
            ]
          },
          "metadata": {},
          "execution_count": 12
        }
      ]
    },
    {
      "cell_type": "code",
      "source": [
        "mask[mask == 0] = -np.infty\n",
        "mask[mask == 1] = 0\n",
        "mask\n"
      ],
      "metadata": {
        "colab": {
          "base_uri": "https://localhost:8080/"
        },
        "id": "ZpZGiIG2nrok",
        "outputId": "d4cfa41d-e5fb-44c8-9209-1d0c49327b90"
      },
      "execution_count": 13,
      "outputs": [
        {
          "output_type": "execute_result",
          "data": {
            "text/plain": [
              "array([[  0., -inf, -inf, -inf],\n",
              "       [  0.,   0., -inf, -inf],\n",
              "       [  0.,   0.,   0., -inf],\n",
              "       [  0.,   0.,   0.,   0.]])"
            ]
          },
          "metadata": {},
          "execution_count": 13
        }
      ]
    },
    {
      "cell_type": "code",
      "source": [
        "scaled + mask"
      ],
      "metadata": {
        "colab": {
          "base_uri": "https://localhost:8080/"
        },
        "id": "8R8VDkbFn0kS",
        "outputId": "f25df764-d247-4c7c-cfee-0c710afc1cb2"
      },
      "execution_count": 14,
      "outputs": [
        {
          "output_type": "execute_result",
          "data": {
            "text/plain": [
              "array([[-0.67596556,        -inf,        -inf,        -inf],\n",
              "       [-1.83740366, -0.03331061,        -inf,        -inf],\n",
              "       [ 0.68094557,  0.30211687, -0.31054886,        -inf],\n",
              "       [-0.16384577,  0.01427884, -0.2788396 , -0.13064044]])"
            ]
          },
          "metadata": {},
          "execution_count": 14
        }
      ]
    },
    {
      "cell_type": "markdown",
      "source": [
        "#Soft Max\n",
        "\n",
        "![image.png](data:image/png;base64,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)"
      ],
      "metadata": {
        "id": "L7HFuEl1oFSx"
      }
    },
    {
      "cell_type": "code",
      "source": [
        "def softmax(x):\n",
        "  return (np.exp(x).T / np.sum(np.exp(x), axis = -1)).T"
      ],
      "metadata": {
        "id": "LtdwfhROoCf5"
      },
      "execution_count": 16,
      "outputs": []
    },
    {
      "cell_type": "code",
      "source": [
        "attention = softmax(scaled + mask)\n",
        "attention"
      ],
      "metadata": {
        "colab": {
          "base_uri": "https://localhost:8080/"
        },
        "id": "95BW9-1ioVM0",
        "outputId": "74a4945f-8ed0-400f-9df2-04202e6a24be"
      },
      "execution_count": 18,
      "outputs": [
        {
          "output_type": "execute_result",
          "data": {
            "text/plain": [
              "array([[1.        , 0.        , 0.        , 0.        ],\n",
              "       [0.14135355, 0.85864645, 0.        , 0.        ],\n",
              "       [0.48645593, 0.33305832, 0.18048576, 0.        ],\n",
              "       [0.24271205, 0.29003464, 0.21634664, 0.25090668]])"
            ]
          },
          "metadata": {},
          "execution_count": 18
        }
      ]
    },
    {
      "cell_type": "code",
      "source": [
        "new_v = np.matmul(attention,v)\n",
        "new_v"
      ],
      "metadata": {
        "colab": {
          "base_uri": "https://localhost:8080/"
        },
        "id": "kk2KAUJ4vpxF",
        "outputId": "9ecfa834-35cb-45aa-b263-18b53b818867"
      },
      "execution_count": 19,
      "outputs": [
        {
          "output_type": "execute_result",
          "data": {
            "text/plain": [
              "array([[ 0.93524188,  0.38485664, -0.54203671, -1.17671975, -0.92106956,\n",
              "         0.04904538,  0.69986602,  1.13725061],\n",
              "       [-0.62243677,  0.32863002, -0.61354874, -0.12670023,  0.72736142,\n",
              "        -0.12246076, -0.52599394, -0.39595786],\n",
              "       [ 0.14394965,  0.617539  , -0.49557498, -0.81130906,  0.23568215,\n",
              "        -0.24735004,  0.19264976,  0.51032515],\n",
              "       [-0.38201731,  0.77037338, -0.78435298, -0.18493989,  0.53913527,\n",
              "        -0.34687095,  0.42771487,  0.31868722]])"
            ]
          },
          "metadata": {},
          "execution_count": 19
        }
      ]
    },
    {
      "cell_type": "code",
      "source": [
        "v"
      ],
      "metadata": {
        "colab": {
          "base_uri": "https://localhost:8080/"
        },
        "id": "P6U46i4xwArE",
        "outputId": "ef0c72ef-2edd-4343-ffa8-8de96da25ef2"
      },
      "execution_count": 20,
      "outputs": [
        {
          "output_type": "execute_result",
          "data": {
            "text/plain": [
              "array([[ 0.93524188,  0.38485664, -0.54203671, -1.17671975, -0.92106956,\n",
              "         0.04904538,  0.69986602,  1.13725061],\n",
              "       [-0.87886758,  0.31937379, -0.62532131,  0.04615786,  0.99873222,\n",
              "        -0.15069474, -0.72779954, -0.6483603 ],\n",
              "       [-0.10133848,  1.7948957 , -0.13092193, -1.40875396,  1.94533812,\n",
              "        -1.22457486,  0.52411603,  0.95877175],\n",
              "       [-1.32394043,  0.78122642, -1.7660143 ,  1.56255693,  0.20786871,\n",
              "        -0.19981738,  1.41704197,  0.09279426]])"
            ]
          },
          "metadata": {},
          "execution_count": 20
        }
      ]
    },
    {
      "cell_type": "code",
      "source": [
        "def scaled_dot_product_attention(q,k,v,mask = None):\n",
        "  d_k = q.shape[-1]\n",
        "  scaled = np.matmul(q,k.T)/math.sqrt(d_k)\n",
        "  if mask is not None:\n",
        "    scaled = scaled + mask\n",
        "  attention = softmax(scaled)\n",
        "  out = np.matmul(attention,v)\n",
        "  return out,attention\n"
      ],
      "metadata": {
        "id": "dQBTw-ZHwEUU"
      },
      "execution_count": 21,
      "outputs": []
    },
    {
      "cell_type": "code",
      "source": [
        "values, attention = scaled_dot_product_attention(q,k,v,mask = None)\n",
        "print(\"Q\\n\",q)\n",
        "print(\"K\\n\",k)\n",
        "print(\"V\\n\",v)\n",
        "print(\"New_V \\n\", values)\n",
        "print(\"Attention\\n\", attention)"
      ],
      "metadata": {
        "colab": {
          "base_uri": "https://localhost:8080/"
        },
        "id": "vHVB3b0uxUTH",
        "outputId": "5e5b2790-32c5-47c0-c8fd-9472ada867f2"
      },
      "execution_count": 23,
      "outputs": [
        {
          "output_type": "stream",
          "name": "stdout",
          "text": [
            "Q\n",
            " [[ 0.61309447  0.91506437  0.17928648 -0.27264527  0.19815865 -0.02763374\n",
            "   0.30879337  0.27903206]\n",
            " [ 2.69379771 -0.23551054  1.32126455 -0.74207261  0.58136525  0.69722202\n",
            "  -0.71070405  0.10600109]\n",
            " [-1.09163064 -0.69622594 -0.05637154  0.19256647 -0.45691985  1.02455255\n",
            "  -1.55772857  0.49051046]\n",
            " [ 1.11384231  0.53439112  0.02576718  0.2703154  -0.89751473 -0.09377303\n",
            "   0.55149566 -0.85294598]]\n",
            "K\n",
            " [[-1.73103395 -0.25666761 -0.91997805 -0.77270287 -0.35118486  0.51912348\n",
            "  -0.13213558 -1.92365178]\n",
            " [-0.85227627  1.12124783  1.10568746 -1.56074242 -0.87117527  0.03346966\n",
            "  -0.51450005 -0.33870361]\n",
            " [-0.24157953 -0.11136578 -1.33738659  0.25303467  0.19797067 -0.77156918\n",
            "   0.55320392  0.81339493]\n",
            " [ 0.94791864 -0.37336424  0.29379027  0.0029842   0.36586476  1.11545411\n",
            "   0.29594558  1.13071325]]\n",
            "V\n",
            " [[ 0.93524188  0.38485664 -0.54203671 -1.17671975 -0.92106956  0.04904538\n",
            "   0.69986602  1.13725061]\n",
            " [-0.87886758  0.31937379 -0.62532131  0.04615786  0.99873222 -0.15069474\n",
            "  -0.72779954 -0.6483603 ]\n",
            " [-0.10133848  1.7948957  -0.13092193 -1.40875396  1.94533812 -1.22457486\n",
            "   0.52411603  0.95877175]\n",
            " [-1.32394043  0.78122642 -1.7660143   1.56255693  0.20786871 -0.19981738\n",
            "   1.41704197  0.09279426]]\n",
            "New_V \n",
            " [[-0.60874167  0.82688224 -0.86269832  0.03225455  0.72977049 -0.39704131\n",
            "   0.43671232  0.19582638]\n",
            " [-1.10915179  0.74537946 -1.43443378  1.04378326  0.4143526  -0.24222139\n",
            "   0.96422988  0.04105084]\n",
            " [-0.16965632  0.65250984 -0.76699677 -0.30414673  0.22973998 -0.23719497\n",
            "   0.45423386  0.42112216]\n",
            " [-0.38201731  0.77037338 -0.78435298 -0.18493989  0.53913527 -0.34687095\n",
            "   0.42771487  0.31868722]]\n",
            "Attention\n",
            " [[0.12548051 0.31599106 0.23807943 0.320449  ]\n",
            " [0.02923923 0.17761252 0.05699433 0.73615392]\n",
            " [0.38252752 0.26190239 0.14192605 0.21364404]\n",
            " [0.24271205 0.29003464 0.21634664 0.25090668]]\n"
          ]
        }
      ]
    }
  ]
}